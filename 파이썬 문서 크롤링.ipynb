{
 "cells": [
  {
   "cell_type": "code",
   "execution_count": 1,
   "id": "6291a571",
   "metadata": {},
   "outputs": [],
   "source": [
    "from selenium import webdriver\n",
    "from selenium.webdriver.chrome.service import Service\n",
    "from webdriver_manager.chrome import ChromeDriverManager\n",
    "from bs4 import BeautifulSoup\n",
    "from urllib.request import urlopen\n",
    "from html_table_parser import parser_functions as parser\n",
    "import re\n",
    "import pandas as pd\n",
    "from selenium.webdriver.common.by import By\n",
    "\n",
    "import collections\n",
    "collections.Callable = collections.abc.Callable"
   ]
  },
  {
   "cell_type": "code",
   "execution_count": 2,
   "id": "710f8a92",
   "metadata": {},
   "outputs": [
    {
     "name": "stderr",
     "output_type": "stream",
     "text": [
      "[WDM] - Downloading: 100%|████████████████████████████████████████████████████████| 6.80M/6.80M [00:00<00:00, 11.4MB/s]\n"
     ]
    }
   ],
   "source": [
    "driver = webdriver.Chrome(\n",
    "    service=Service(ChromeDriverManager().install()))"
   ]
  },
  {
   "cell_type": "code",
   "execution_count": 3,
   "id": "7f35c803",
   "metadata": {},
   "outputs": [],
   "source": [
    "# 대괄호 뒤 ind] 처리하기\n",
    "urlset = [{'url': 'https://docs.python.org/3.10/library/exceptions.html', \n",
    "          'element': '//*[@id=\"concrete-exceptions\"]/dl['},\n",
    "          {'url': 'https://docs.python.org/3/library/functions.html', \n",
    "          'element': '//*[@id=\"built-in-functions\"]/dl['}]"
   ]
  },
  {
   "cell_type": "code",
   "execution_count": 15,
   "id": "147b0f78-9a00-49d0-8cce-497ea1641768",
   "metadata": {
    "scrolled": true,
    "tags": []
   },
   "outputs": [
    {
     "name": "stderr",
     "output_type": "stream",
     "text": [
      "C:\\Users\\user\\AppData\\Local\\Temp\\ipykernel_13728\\2269507797.py:20: FutureWarning: The frame.append method is deprecated and will be removed from pandas in a future version. Use pandas.concat instead.\n",
      "  df = df.append(pd.DataFrame([txt[0], txt[1]]).T)\n",
      "C:\\Users\\user\\AppData\\Local\\Temp\\ipykernel_13728\\2269507797.py:20: FutureWarning: The frame.append method is deprecated and will be removed from pandas in a future version. Use pandas.concat instead.\n",
      "  df = df.append(pd.DataFrame([txt[0], txt[1]]).T)\n",
      "C:\\Users\\user\\AppData\\Local\\Temp\\ipykernel_13728\\2269507797.py:20: FutureWarning: The frame.append method is deprecated and will be removed from pandas in a future version. Use pandas.concat instead.\n",
      "  df = df.append(pd.DataFrame([txt[0], txt[1]]).T)\n",
      "C:\\Users\\user\\AppData\\Local\\Temp\\ipykernel_13728\\2269507797.py:20: FutureWarning: The frame.append method is deprecated and will be removed from pandas in a future version. Use pandas.concat instead.\n",
      "  df = df.append(pd.DataFrame([txt[0], txt[1]]).T)\n",
      "C:\\Users\\user\\AppData\\Local\\Temp\\ipykernel_13728\\2269507797.py:20: FutureWarning: The frame.append method is deprecated and will be removed from pandas in a future version. Use pandas.concat instead.\n",
      "  df = df.append(pd.DataFrame([txt[0], txt[1]]).T)\n",
      "C:\\Users\\user\\AppData\\Local\\Temp\\ipykernel_13728\\2269507797.py:20: FutureWarning: The frame.append method is deprecated and will be removed from pandas in a future version. Use pandas.concat instead.\n",
      "  df = df.append(pd.DataFrame([txt[0], txt[1]]).T)\n",
      "C:\\Users\\user\\AppData\\Local\\Temp\\ipykernel_13728\\2269507797.py:20: FutureWarning: The frame.append method is deprecated and will be removed from pandas in a future version. Use pandas.concat instead.\n",
      "  df = df.append(pd.DataFrame([txt[0], txt[1]]).T)\n",
      "C:\\Users\\user\\AppData\\Local\\Temp\\ipykernel_13728\\2269507797.py:20: FutureWarning: The frame.append method is deprecated and will be removed from pandas in a future version. Use pandas.concat instead.\n",
      "  df = df.append(pd.DataFrame([txt[0], txt[1]]).T)\n",
      "C:\\Users\\user\\AppData\\Local\\Temp\\ipykernel_13728\\2269507797.py:20: FutureWarning: The frame.append method is deprecated and will be removed from pandas in a future version. Use pandas.concat instead.\n",
      "  df = df.append(pd.DataFrame([txt[0], txt[1]]).T)\n",
      "C:\\Users\\user\\AppData\\Local\\Temp\\ipykernel_13728\\2269507797.py:20: FutureWarning: The frame.append method is deprecated and will be removed from pandas in a future version. Use pandas.concat instead.\n",
      "  df = df.append(pd.DataFrame([txt[0], txt[1]]).T)\n",
      "C:\\Users\\user\\AppData\\Local\\Temp\\ipykernel_13728\\2269507797.py:20: FutureWarning: The frame.append method is deprecated and will be removed from pandas in a future version. Use pandas.concat instead.\n",
      "  df = df.append(pd.DataFrame([txt[0], txt[1]]).T)\n",
      "C:\\Users\\user\\AppData\\Local\\Temp\\ipykernel_13728\\2269507797.py:20: FutureWarning: The frame.append method is deprecated and will be removed from pandas in a future version. Use pandas.concat instead.\n",
      "  df = df.append(pd.DataFrame([txt[0], txt[1]]).T)\n",
      "C:\\Users\\user\\AppData\\Local\\Temp\\ipykernel_13728\\2269507797.py:20: FutureWarning: The frame.append method is deprecated and will be removed from pandas in a future version. Use pandas.concat instead.\n",
      "  df = df.append(pd.DataFrame([txt[0], txt[1]]).T)\n",
      "C:\\Users\\user\\AppData\\Local\\Temp\\ipykernel_13728\\2269507797.py:20: FutureWarning: The frame.append method is deprecated and will be removed from pandas in a future version. Use pandas.concat instead.\n",
      "  df = df.append(pd.DataFrame([txt[0], txt[1]]).T)\n",
      "C:\\Users\\user\\AppData\\Local\\Temp\\ipykernel_13728\\2269507797.py:20: FutureWarning: The frame.append method is deprecated and will be removed from pandas in a future version. Use pandas.concat instead.\n",
      "  df = df.append(pd.DataFrame([txt[0], txt[1]]).T)\n",
      "C:\\Users\\user\\AppData\\Local\\Temp\\ipykernel_13728\\2269507797.py:20: FutureWarning: The frame.append method is deprecated and will be removed from pandas in a future version. Use pandas.concat instead.\n",
      "  df = df.append(pd.DataFrame([txt[0], txt[1]]).T)\n",
      "C:\\Users\\user\\AppData\\Local\\Temp\\ipykernel_13728\\2269507797.py:20: FutureWarning: The frame.append method is deprecated and will be removed from pandas in a future version. Use pandas.concat instead.\n",
      "  df = df.append(pd.DataFrame([txt[0], txt[1]]).T)\n",
      "C:\\Users\\user\\AppData\\Local\\Temp\\ipykernel_13728\\2269507797.py:20: FutureWarning: The frame.append method is deprecated and will be removed from pandas in a future version. Use pandas.concat instead.\n",
      "  df = df.append(pd.DataFrame([txt[0], txt[1]]).T)\n",
      "C:\\Users\\user\\AppData\\Local\\Temp\\ipykernel_13728\\2269507797.py:20: FutureWarning: The frame.append method is deprecated and will be removed from pandas in a future version. Use pandas.concat instead.\n",
      "  df = df.append(pd.DataFrame([txt[0], txt[1]]).T)\n",
      "C:\\Users\\user\\AppData\\Local\\Temp\\ipykernel_13728\\2269507797.py:20: FutureWarning: The frame.append method is deprecated and will be removed from pandas in a future version. Use pandas.concat instead.\n",
      "  df = df.append(pd.DataFrame([txt[0], txt[1]]).T)\n",
      "C:\\Users\\user\\AppData\\Local\\Temp\\ipykernel_13728\\2269507797.py:20: FutureWarning: The frame.append method is deprecated and will be removed from pandas in a future version. Use pandas.concat instead.\n",
      "  df = df.append(pd.DataFrame([txt[0], txt[1]]).T)\n",
      "C:\\Users\\user\\AppData\\Local\\Temp\\ipykernel_13728\\2269507797.py:20: FutureWarning: The frame.append method is deprecated and will be removed from pandas in a future version. Use pandas.concat instead.\n",
      "  df = df.append(pd.DataFrame([txt[0], txt[1]]).T)\n",
      "C:\\Users\\user\\AppData\\Local\\Temp\\ipykernel_13728\\2269507797.py:20: FutureWarning: The frame.append method is deprecated and will be removed from pandas in a future version. Use pandas.concat instead.\n",
      "  df = df.append(pd.DataFrame([txt[0], txt[1]]).T)\n",
      "C:\\Users\\user\\AppData\\Local\\Temp\\ipykernel_13728\\2269507797.py:20: FutureWarning: The frame.append method is deprecated and will be removed from pandas in a future version. Use pandas.concat instead.\n",
      "  df = df.append(pd.DataFrame([txt[0], txt[1]]).T)\n",
      "C:\\Users\\user\\AppData\\Local\\Temp\\ipykernel_13728\\2269507797.py:20: FutureWarning: The frame.append method is deprecated and will be removed from pandas in a future version. Use pandas.concat instead.\n",
      "  df = df.append(pd.DataFrame([txt[0], txt[1]]).T)\n",
      "C:\\Users\\user\\AppData\\Local\\Temp\\ipykernel_13728\\2269507797.py:20: FutureWarning: The frame.append method is deprecated and will be removed from pandas in a future version. Use pandas.concat instead.\n",
      "  df = df.append(pd.DataFrame([txt[0], txt[1]]).T)\n",
      "C:\\Users\\user\\AppData\\Local\\Temp\\ipykernel_13728\\2269507797.py:20: FutureWarning: The frame.append method is deprecated and will be removed from pandas in a future version. Use pandas.concat instead.\n",
      "  df = df.append(pd.DataFrame([txt[0], txt[1]]).T)\n",
      "C:\\Users\\user\\AppData\\Local\\Temp\\ipykernel_13728\\2269507797.py:20: FutureWarning: The frame.append method is deprecated and will be removed from pandas in a future version. Use pandas.concat instead.\n",
      "  df = df.append(pd.DataFrame([txt[0], txt[1]]).T)\n",
      "C:\\Users\\user\\AppData\\Local\\Temp\\ipykernel_13728\\2269507797.py:20: FutureWarning: The frame.append method is deprecated and will be removed from pandas in a future version. Use pandas.concat instead.\n",
      "  df = df.append(pd.DataFrame([txt[0], txt[1]]).T)\n",
      "C:\\Users\\user\\AppData\\Local\\Temp\\ipykernel_13728\\2269507797.py:20: FutureWarning: The frame.append method is deprecated and will be removed from pandas in a future version. Use pandas.concat instead.\n",
      "  df = df.append(pd.DataFrame([txt[0], txt[1]]).T)\n",
      "C:\\Users\\user\\AppData\\Local\\Temp\\ipykernel_13728\\2269507797.py:20: FutureWarning: The frame.append method is deprecated and will be removed from pandas in a future version. Use pandas.concat instead.\n",
      "  df = df.append(pd.DataFrame([txt[0], txt[1]]).T)\n",
      "C:\\Users\\user\\AppData\\Local\\Temp\\ipykernel_13728\\2269507797.py:20: FutureWarning: The frame.append method is deprecated and will be removed from pandas in a future version. Use pandas.concat instead.\n",
      "  df = df.append(pd.DataFrame([txt[0], txt[1]]).T)\n",
      "C:\\Users\\user\\AppData\\Local\\Temp\\ipykernel_13728\\2269507797.py:20: FutureWarning: The frame.append method is deprecated and will be removed from pandas in a future version. Use pandas.concat instead.\n",
      "  df = df.append(pd.DataFrame([txt[0], txt[1]]).T)\n",
      "C:\\Users\\user\\AppData\\Local\\Temp\\ipykernel_13728\\2269507797.py:20: FutureWarning: The frame.append method is deprecated and will be removed from pandas in a future version. Use pandas.concat instead.\n",
      "  df = df.append(pd.DataFrame([txt[0], txt[1]]).T)\n",
      "C:\\Users\\user\\AppData\\Local\\Temp\\ipykernel_13728\\2269507797.py:20: FutureWarning: The frame.append method is deprecated and will be removed from pandas in a future version. Use pandas.concat instead.\n",
      "  df = df.append(pd.DataFrame([txt[0], txt[1]]).T)\n",
      "C:\\Users\\user\\AppData\\Local\\Temp\\ipykernel_13728\\2269507797.py:20: FutureWarning: The frame.append method is deprecated and will be removed from pandas in a future version. Use pandas.concat instead.\n",
      "  df = df.append(pd.DataFrame([txt[0], txt[1]]).T)\n",
      "C:\\Users\\user\\AppData\\Local\\Temp\\ipykernel_13728\\2269507797.py:20: FutureWarning: The frame.append method is deprecated and will be removed from pandas in a future version. Use pandas.concat instead.\n",
      "  df = df.append(pd.DataFrame([txt[0], txt[1]]).T)\n",
      "C:\\Users\\user\\AppData\\Local\\Temp\\ipykernel_13728\\2269507797.py:20: FutureWarning: The frame.append method is deprecated and will be removed from pandas in a future version. Use pandas.concat instead.\n",
      "  df = df.append(pd.DataFrame([txt[0], txt[1]]).T)\n",
      "C:\\Users\\user\\AppData\\Local\\Temp\\ipykernel_13728\\2269507797.py:20: FutureWarning: The frame.append method is deprecated and will be removed from pandas in a future version. Use pandas.concat instead.\n",
      "  df = df.append(pd.DataFrame([txt[0], txt[1]]).T)\n",
      "C:\\Users\\user\\AppData\\Local\\Temp\\ipykernel_13728\\2269507797.py:20: FutureWarning: The frame.append method is deprecated and will be removed from pandas in a future version. Use pandas.concat instead.\n",
      "  df = df.append(pd.DataFrame([txt[0], txt[1]]).T)\n",
      "C:\\Users\\user\\AppData\\Local\\Temp\\ipykernel_13728\\2269507797.py:20: FutureWarning: The frame.append method is deprecated and will be removed from pandas in a future version. Use pandas.concat instead.\n",
      "  df = df.append(pd.DataFrame([txt[0], txt[1]]).T)\n",
      "C:\\Users\\user\\AppData\\Local\\Temp\\ipykernel_13728\\2269507797.py:20: FutureWarning: The frame.append method is deprecated and will be removed from pandas in a future version. Use pandas.concat instead.\n",
      "  df = df.append(pd.DataFrame([txt[0], txt[1]]).T)\n",
      "C:\\Users\\user\\AppData\\Local\\Temp\\ipykernel_13728\\2269507797.py:20: FutureWarning: The frame.append method is deprecated and will be removed from pandas in a future version. Use pandas.concat instead.\n",
      "  df = df.append(pd.DataFrame([txt[0], txt[1]]).T)\n",
      "C:\\Users\\user\\AppData\\Local\\Temp\\ipykernel_13728\\2269507797.py:20: FutureWarning: The frame.append method is deprecated and will be removed from pandas in a future version. Use pandas.concat instead.\n",
      "  df = df.append(pd.DataFrame([txt[0], txt[1]]).T)\n",
      "C:\\Users\\user\\AppData\\Local\\Temp\\ipykernel_13728\\2269507797.py:20: FutureWarning: The frame.append method is deprecated and will be removed from pandas in a future version. Use pandas.concat instead.\n",
      "  df = df.append(pd.DataFrame([txt[0], txt[1]]).T)\n",
      "C:\\Users\\user\\AppData\\Local\\Temp\\ipykernel_13728\\2269507797.py:20: FutureWarning: The frame.append method is deprecated and will be removed from pandas in a future version. Use pandas.concat instead.\n",
      "  df = df.append(pd.DataFrame([txt[0], txt[1]]).T)\n",
      "C:\\Users\\user\\AppData\\Local\\Temp\\ipykernel_13728\\2269507797.py:20: FutureWarning: The frame.append method is deprecated and will be removed from pandas in a future version. Use pandas.concat instead.\n",
      "  df = df.append(pd.DataFrame([txt[0], txt[1]]).T)\n",
      "C:\\Users\\user\\AppData\\Local\\Temp\\ipykernel_13728\\2269507797.py:20: FutureWarning: The frame.append method is deprecated and will be removed from pandas in a future version. Use pandas.concat instead.\n",
      "  df = df.append(pd.DataFrame([txt[0], txt[1]]).T)\n",
      "C:\\Users\\user\\AppData\\Local\\Temp\\ipykernel_13728\\2269507797.py:20: FutureWarning: The frame.append method is deprecated and will be removed from pandas in a future version. Use pandas.concat instead.\n",
      "  df = df.append(pd.DataFrame([txt[0], txt[1]]).T)\n",
      "C:\\Users\\user\\AppData\\Local\\Temp\\ipykernel_13728\\2269507797.py:20: FutureWarning: The frame.append method is deprecated and will be removed from pandas in a future version. Use pandas.concat instead.\n",
      "  df = df.append(pd.DataFrame([txt[0], txt[1]]).T)\n",
      "C:\\Users\\user\\AppData\\Local\\Temp\\ipykernel_13728\\2269507797.py:20: FutureWarning: The frame.append method is deprecated and will be removed from pandas in a future version. Use pandas.concat instead.\n",
      "  df = df.append(pd.DataFrame([txt[0], txt[1]]).T)\n",
      "C:\\Users\\user\\AppData\\Local\\Temp\\ipykernel_13728\\2269507797.py:20: FutureWarning: The frame.append method is deprecated and will be removed from pandas in a future version. Use pandas.concat instead.\n",
      "  df = df.append(pd.DataFrame([txt[0], txt[1]]).T)\n",
      "C:\\Users\\user\\AppData\\Local\\Temp\\ipykernel_13728\\2269507797.py:20: FutureWarning: The frame.append method is deprecated and will be removed from pandas in a future version. Use pandas.concat instead.\n",
      "  df = df.append(pd.DataFrame([txt[0], txt[1]]).T)\n",
      "C:\\Users\\user\\AppData\\Local\\Temp\\ipykernel_13728\\2269507797.py:20: FutureWarning: The frame.append method is deprecated and will be removed from pandas in a future version. Use pandas.concat instead.\n",
      "  df = df.append(pd.DataFrame([txt[0], txt[1]]).T)\n",
      "C:\\Users\\user\\AppData\\Local\\Temp\\ipykernel_13728\\2269507797.py:20: FutureWarning: The frame.append method is deprecated and will be removed from pandas in a future version. Use pandas.concat instead.\n",
      "  df = df.append(pd.DataFrame([txt[0], txt[1]]).T)\n",
      "C:\\Users\\user\\AppData\\Local\\Temp\\ipykernel_13728\\2269507797.py:20: FutureWarning: The frame.append method is deprecated and will be removed from pandas in a future version. Use pandas.concat instead.\n",
      "  df = df.append(pd.DataFrame([txt[0], txt[1]]).T)\n",
      "C:\\Users\\user\\AppData\\Local\\Temp\\ipykernel_13728\\2269507797.py:20: FutureWarning: The frame.append method is deprecated and will be removed from pandas in a future version. Use pandas.concat instead.\n",
      "  df = df.append(pd.DataFrame([txt[0], txt[1]]).T)\n",
      "C:\\Users\\user\\AppData\\Local\\Temp\\ipykernel_13728\\2269507797.py:20: FutureWarning: The frame.append method is deprecated and will be removed from pandas in a future version. Use pandas.concat instead.\n",
      "  df = df.append(pd.DataFrame([txt[0], txt[1]]).T)\n",
      "C:\\Users\\user\\AppData\\Local\\Temp\\ipykernel_13728\\2269507797.py:20: FutureWarning: The frame.append method is deprecated and will be removed from pandas in a future version. Use pandas.concat instead.\n",
      "  df = df.append(pd.DataFrame([txt[0], txt[1]]).T)\n",
      "C:\\Users\\user\\AppData\\Local\\Temp\\ipykernel_13728\\2269507797.py:20: FutureWarning: The frame.append method is deprecated and will be removed from pandas in a future version. Use pandas.concat instead.\n",
      "  df = df.append(pd.DataFrame([txt[0], txt[1]]).T)\n",
      "C:\\Users\\user\\AppData\\Local\\Temp\\ipykernel_13728\\2269507797.py:20: FutureWarning: The frame.append method is deprecated and will be removed from pandas in a future version. Use pandas.concat instead.\n",
      "  df = df.append(pd.DataFrame([txt[0], txt[1]]).T)\n",
      "C:\\Users\\user\\AppData\\Local\\Temp\\ipykernel_13728\\2269507797.py:20: FutureWarning: The frame.append method is deprecated and will be removed from pandas in a future version. Use pandas.concat instead.\n",
      "  df = df.append(pd.DataFrame([txt[0], txt[1]]).T)\n",
      "C:\\Users\\user\\AppData\\Local\\Temp\\ipykernel_13728\\2269507797.py:20: FutureWarning: The frame.append method is deprecated and will be removed from pandas in a future version. Use pandas.concat instead.\n",
      "  df = df.append(pd.DataFrame([txt[0], txt[1]]).T)\n",
      "C:\\Users\\user\\AppData\\Local\\Temp\\ipykernel_13728\\2269507797.py:20: FutureWarning: The frame.append method is deprecated and will be removed from pandas in a future version. Use pandas.concat instead.\n",
      "  df = df.append(pd.DataFrame([txt[0], txt[1]]).T)\n",
      "C:\\Users\\user\\AppData\\Local\\Temp\\ipykernel_13728\\2269507797.py:20: FutureWarning: The frame.append method is deprecated and will be removed from pandas in a future version. Use pandas.concat instead.\n",
      "  df = df.append(pd.DataFrame([txt[0], txt[1]]).T)\n",
      "C:\\Users\\user\\AppData\\Local\\Temp\\ipykernel_13728\\2269507797.py:20: FutureWarning: The frame.append method is deprecated and will be removed from pandas in a future version. Use pandas.concat instead.\n",
      "  df = df.append(pd.DataFrame([txt[0], txt[1]]).T)\n",
      "C:\\Users\\user\\AppData\\Local\\Temp\\ipykernel_13728\\2269507797.py:20: FutureWarning: The frame.append method is deprecated and will be removed from pandas in a future version. Use pandas.concat instead.\n",
      "  df = df.append(pd.DataFrame([txt[0], txt[1]]).T)\n",
      "C:\\Users\\user\\AppData\\Local\\Temp\\ipykernel_13728\\2269507797.py:20: FutureWarning: The frame.append method is deprecated and will be removed from pandas in a future version. Use pandas.concat instead.\n",
      "  df = df.append(pd.DataFrame([txt[0], txt[1]]).T)\n",
      "C:\\Users\\user\\AppData\\Local\\Temp\\ipykernel_13728\\2269507797.py:20: FutureWarning: The frame.append method is deprecated and will be removed from pandas in a future version. Use pandas.concat instead.\n",
      "  df = df.append(pd.DataFrame([txt[0], txt[1]]).T)\n",
      "C:\\Users\\user\\AppData\\Local\\Temp\\ipykernel_13728\\2269507797.py:20: FutureWarning: The frame.append method is deprecated and will be removed from pandas in a future version. Use pandas.concat instead.\n",
      "  df = df.append(pd.DataFrame([txt[0], txt[1]]).T)\n",
      "C:\\Users\\user\\AppData\\Local\\Temp\\ipykernel_13728\\2269507797.py:20: FutureWarning: The frame.append method is deprecated and will be removed from pandas in a future version. Use pandas.concat instead.\n",
      "  df = df.append(pd.DataFrame([txt[0], txt[1]]).T)\n",
      "C:\\Users\\user\\AppData\\Local\\Temp\\ipykernel_13728\\2269507797.py:20: FutureWarning: The frame.append method is deprecated and will be removed from pandas in a future version. Use pandas.concat instead.\n",
      "  df = df.append(pd.DataFrame([txt[0], txt[1]]).T)\n",
      "C:\\Users\\user\\AppData\\Local\\Temp\\ipykernel_13728\\2269507797.py:20: FutureWarning: The frame.append method is deprecated and will be removed from pandas in a future version. Use pandas.concat instead.\n",
      "  df = df.append(pd.DataFrame([txt[0], txt[1]]).T)\n",
      "C:\\Users\\user\\AppData\\Local\\Temp\\ipykernel_13728\\2269507797.py:20: FutureWarning: The frame.append method is deprecated and will be removed from pandas in a future version. Use pandas.concat instead.\n",
      "  df = df.append(pd.DataFrame([txt[0], txt[1]]).T)\n",
      "C:\\Users\\user\\AppData\\Local\\Temp\\ipykernel_13728\\2269507797.py:20: FutureWarning: The frame.append method is deprecated and will be removed from pandas in a future version. Use pandas.concat instead.\n",
      "  df = df.append(pd.DataFrame([txt[0], txt[1]]).T)\n",
      "C:\\Users\\user\\AppData\\Local\\Temp\\ipykernel_13728\\2269507797.py:20: FutureWarning: The frame.append method is deprecated and will be removed from pandas in a future version. Use pandas.concat instead.\n",
      "  df = df.append(pd.DataFrame([txt[0], txt[1]]).T)\n",
      "C:\\Users\\user\\AppData\\Local\\Temp\\ipykernel_13728\\2269507797.py:20: FutureWarning: The frame.append method is deprecated and will be removed from pandas in a future version. Use pandas.concat instead.\n",
      "  df = df.append(pd.DataFrame([txt[0], txt[1]]).T)\n",
      "C:\\Users\\user\\AppData\\Local\\Temp\\ipykernel_13728\\2269507797.py:20: FutureWarning: The frame.append method is deprecated and will be removed from pandas in a future version. Use pandas.concat instead.\n",
      "  df = df.append(pd.DataFrame([txt[0], txt[1]]).T)\n",
      "C:\\Users\\user\\AppData\\Local\\Temp\\ipykernel_13728\\2269507797.py:20: FutureWarning: The frame.append method is deprecated and will be removed from pandas in a future version. Use pandas.concat instead.\n",
      "  df = df.append(pd.DataFrame([txt[0], txt[1]]).T)\n",
      "C:\\Users\\user\\AppData\\Local\\Temp\\ipykernel_13728\\2269507797.py:20: FutureWarning: The frame.append method is deprecated and will be removed from pandas in a future version. Use pandas.concat instead.\n",
      "  df = df.append(pd.DataFrame([txt[0], txt[1]]).T)\n",
      "C:\\Users\\user\\AppData\\Local\\Temp\\ipykernel_13728\\2269507797.py:20: FutureWarning: The frame.append method is deprecated and will be removed from pandas in a future version. Use pandas.concat instead.\n",
      "  df = df.append(pd.DataFrame([txt[0], txt[1]]).T)\n",
      "C:\\Users\\user\\AppData\\Local\\Temp\\ipykernel_13728\\2269507797.py:20: FutureWarning: The frame.append method is deprecated and will be removed from pandas in a future version. Use pandas.concat instead.\n",
      "  df = df.append(pd.DataFrame([txt[0], txt[1]]).T)\n",
      "C:\\Users\\user\\AppData\\Local\\Temp\\ipykernel_13728\\2269507797.py:20: FutureWarning: The frame.append method is deprecated and will be removed from pandas in a future version. Use pandas.concat instead.\n",
      "  df = df.append(pd.DataFrame([txt[0], txt[1]]).T)\n",
      "C:\\Users\\user\\AppData\\Local\\Temp\\ipykernel_13728\\2269507797.py:20: FutureWarning: The frame.append method is deprecated and will be removed from pandas in a future version. Use pandas.concat instead.\n",
      "  df = df.append(pd.DataFrame([txt[0], txt[1]]).T)\n",
      "C:\\Users\\user\\AppData\\Local\\Temp\\ipykernel_13728\\2269507797.py:20: FutureWarning: The frame.append method is deprecated and will be removed from pandas in a future version. Use pandas.concat instead.\n",
      "  df = df.append(pd.DataFrame([txt[0], txt[1]]).T)\n",
      "C:\\Users\\user\\AppData\\Local\\Temp\\ipykernel_13728\\2269507797.py:20: FutureWarning: The frame.append method is deprecated and will be removed from pandas in a future version. Use pandas.concat instead.\n",
      "  df = df.append(pd.DataFrame([txt[0], txt[1]]).T)\n",
      "C:\\Users\\user\\AppData\\Local\\Temp\\ipykernel_13728\\2269507797.py:20: FutureWarning: The frame.append method is deprecated and will be removed from pandas in a future version. Use pandas.concat instead.\n",
      "  df = df.append(pd.DataFrame([txt[0], txt[1]]).T)\n",
      "C:\\Users\\user\\AppData\\Local\\Temp\\ipykernel_13728\\2269507797.py:20: FutureWarning: The frame.append method is deprecated and will be removed from pandas in a future version. Use pandas.concat instead.\n",
      "  df = df.append(pd.DataFrame([txt[0], txt[1]]).T)\n",
      "C:\\Users\\user\\AppData\\Local\\Temp\\ipykernel_13728\\2269507797.py:20: FutureWarning: The frame.append method is deprecated and will be removed from pandas in a future version. Use pandas.concat instead.\n",
      "  df = df.append(pd.DataFrame([txt[0], txt[1]]).T)\n",
      "C:\\Users\\user\\AppData\\Local\\Temp\\ipykernel_13728\\2269507797.py:20: FutureWarning: The frame.append method is deprecated and will be removed from pandas in a future version. Use pandas.concat instead.\n",
      "  df = df.append(pd.DataFrame([txt[0], txt[1]]).T)\n",
      "C:\\Users\\user\\AppData\\Local\\Temp\\ipykernel_13728\\2269507797.py:20: FutureWarning: The frame.append method is deprecated and will be removed from pandas in a future version. Use pandas.concat instead.\n",
      "  df = df.append(pd.DataFrame([txt[0], txt[1]]).T)\n",
      "C:\\Users\\user\\AppData\\Local\\Temp\\ipykernel_13728\\2269507797.py:20: FutureWarning: The frame.append method is deprecated and will be removed from pandas in a future version. Use pandas.concat instead.\n",
      "  df = df.append(pd.DataFrame([txt[0], txt[1]]).T)\n",
      "C:\\Users\\user\\AppData\\Local\\Temp\\ipykernel_13728\\2269507797.py:20: FutureWarning: The frame.append method is deprecated and will be removed from pandas in a future version. Use pandas.concat instead.\n",
      "  df = df.append(pd.DataFrame([txt[0], txt[1]]).T)\n",
      "C:\\Users\\user\\AppData\\Local\\Temp\\ipykernel_13728\\2269507797.py:20: FutureWarning: The frame.append method is deprecated and will be removed from pandas in a future version. Use pandas.concat instead.\n",
      "  df = df.append(pd.DataFrame([txt[0], txt[1]]).T)\n",
      "C:\\Users\\user\\AppData\\Local\\Temp\\ipykernel_13728\\2269507797.py:20: FutureWarning: The frame.append method is deprecated and will be removed from pandas in a future version. Use pandas.concat instead.\n",
      "  df = df.append(pd.DataFrame([txt[0], txt[1]]).T)\n",
      "C:\\Users\\user\\AppData\\Local\\Temp\\ipykernel_13728\\2269507797.py:20: FutureWarning: The frame.append method is deprecated and will be removed from pandas in a future version. Use pandas.concat instead.\n",
      "  df = df.append(pd.DataFrame([txt[0], txt[1]]).T)\n",
      "C:\\Users\\user\\AppData\\Local\\Temp\\ipykernel_13728\\2269507797.py:20: FutureWarning: The frame.append method is deprecated and will be removed from pandas in a future version. Use pandas.concat instead.\n",
      "  df = df.append(pd.DataFrame([txt[0], txt[1]]).T)\n",
      "C:\\Users\\user\\AppData\\Local\\Temp\\ipykernel_13728\\2269507797.py:20: FutureWarning: The frame.append method is deprecated and will be removed from pandas in a future version. Use pandas.concat instead.\n",
      "  df = df.append(pd.DataFrame([txt[0], txt[1]]).T)\n",
      "C:\\Users\\user\\AppData\\Local\\Temp\\ipykernel_13728\\2269507797.py:20: FutureWarning: The frame.append method is deprecated and will be removed from pandas in a future version. Use pandas.concat instead.\n",
      "  df = df.append(pd.DataFrame([txt[0], txt[1]]).T)\n",
      "C:\\Users\\user\\AppData\\Local\\Temp\\ipykernel_13728\\2269507797.py:20: FutureWarning: The frame.append method is deprecated and will be removed from pandas in a future version. Use pandas.concat instead.\n",
      "  df = df.append(pd.DataFrame([txt[0], txt[1]]).T)\n",
      "C:\\Users\\user\\AppData\\Local\\Temp\\ipykernel_13728\\2269507797.py:20: FutureWarning: The frame.append method is deprecated and will be removed from pandas in a future version. Use pandas.concat instead.\n",
      "  df = df.append(pd.DataFrame([txt[0], txt[1]]).T)\n",
      "C:\\Users\\user\\AppData\\Local\\Temp\\ipykernel_13728\\2269507797.py:20: FutureWarning: The frame.append method is deprecated and will be removed from pandas in a future version. Use pandas.concat instead.\n",
      "  df = df.append(pd.DataFrame([txt[0], txt[1]]).T)\n",
      "C:\\Users\\user\\AppData\\Local\\Temp\\ipykernel_13728\\2269507797.py:20: FutureWarning: The frame.append method is deprecated and will be removed from pandas in a future version. Use pandas.concat instead.\n",
      "  df = df.append(pd.DataFrame([txt[0], txt[1]]).T)\n"
     ]
    }
   ],
   "source": [
    "df = pd.DataFrame()\n",
    "\n",
    "for u in urlset:\n",
    "    driver.get(u['url'])\n",
    "\n",
    "    bsObject = BeautifulSoup(driver.page_source, 'html.parser')\n",
    "\n",
    "    ind = 1\n",
    "\n",
    "    while 1:\n",
    "        txt = driver.find_elements(By.XPATH, u['element'] + f'{ind}]')\n",
    "        ind += 1\n",
    "\n",
    "        if txt == []:\n",
    "            break\n",
    "\n",
    "        txt = txt[0].text.split('\\n')\n",
    "\n",
    "        if len(txt) > 1 and not txt[0].isdigit(): # 숫자로만 이루어진 주석 처리\n",
    "            df = df.append(pd.DataFrame([txt[0], txt[1]]).T)"
   ]
  },
  {
   "cell_type": "code",
   "execution_count": 16,
   "id": "990a0d76-eea7-4861-b39d-e0181282cb31",
   "metadata": {},
   "outputs": [],
   "source": [
    "df.columns = ['Error', 'Information']\n",
    "df['Error'] = df['Error'].apply(lambda x: x.replace('exception ', ''))\n",
    "\n",
    "df_ori = pd.read_csv('./QApage/python_exception_eng.csv')\n",
    "df = pd.concat([df_ori, df])\n",
    "df.drop_duplicates(inplace=True)"
   ]
  },
  {
   "cell_type": "code",
   "execution_count": 17,
   "id": "4d7a49d6-917a-4975-a24d-12b30797b72f",
   "metadata": {},
   "outputs": [
    {
     "data": {
      "text/plain": [
       "(105, 2)"
      ]
     },
     "execution_count": 17,
     "metadata": {},
     "output_type": "execute_result"
    }
   ],
   "source": [
    "df.shape"
   ]
  },
  {
   "cell_type": "code",
   "execution_count": 18,
   "id": "f116ea7b-6554-43b4-a226-9adb4c8ec39e",
   "metadata": {},
   "outputs": [
    {
     "data": {
      "text/html": [
       "<div>\n",
       "<style scoped>\n",
       "    .dataframe tbody tr th:only-of-type {\n",
       "        vertical-align: middle;\n",
       "    }\n",
       "\n",
       "    .dataframe tbody tr th {\n",
       "        vertical-align: top;\n",
       "    }\n",
       "\n",
       "    .dataframe thead th {\n",
       "        text-align: right;\n",
       "    }\n",
       "</style>\n",
       "<table border=\"1\" class=\"dataframe\">\n",
       "  <thead>\n",
       "    <tr style=\"text-align: right;\">\n",
       "      <th></th>\n",
       "      <th>Error</th>\n",
       "      <th>Information</th>\n",
       "    </tr>\n",
       "  </thead>\n",
       "  <tbody>\n",
       "    <tr>\n",
       "      <th>0</th>\n",
       "      <td>AssertionError</td>\n",
       "      <td>Raised when an assert statement fails.</td>\n",
       "    </tr>\n",
       "    <tr>\n",
       "      <th>0</th>\n",
       "      <td>AttributeError</td>\n",
       "      <td>Raised when an attribute reference (see Attrib...</td>\n",
       "    </tr>\n",
       "    <tr>\n",
       "      <th>0</th>\n",
       "      <td>EOFError</td>\n",
       "      <td>Raised when the input() function hits an end-o...</td>\n",
       "    </tr>\n",
       "    <tr>\n",
       "      <th>0</th>\n",
       "      <td>FloatingPointError</td>\n",
       "      <td>Not currently used.</td>\n",
       "    </tr>\n",
       "    <tr>\n",
       "      <th>0</th>\n",
       "      <td>GeneratorExit</td>\n",
       "      <td>Raised when a generator or coroutine is closed...</td>\n",
       "    </tr>\n",
       "    <tr>\n",
       "      <th>...</th>\n",
       "      <td>...</td>\n",
       "      <td>...</td>\n",
       "    </tr>\n",
       "    <tr>\n",
       "      <th>0</th>\n",
       "      <td>class tuple</td>\n",
       "      <td>class tuple(iterable)</td>\n",
       "    </tr>\n",
       "    <tr>\n",
       "      <th>0</th>\n",
       "      <td>class type(object)</td>\n",
       "      <td>class type(name, bases, dict, **kwds)</td>\n",
       "    </tr>\n",
       "    <tr>\n",
       "      <th>0</th>\n",
       "      <td>vars()</td>\n",
       "      <td>vars(object)</td>\n",
       "    </tr>\n",
       "    <tr>\n",
       "      <th>0</th>\n",
       "      <td>zip(*iterables, strict=False)</td>\n",
       "      <td>Iterate over several iterables in parallel, pr...</td>\n",
       "    </tr>\n",
       "    <tr>\n",
       "      <th>0</th>\n",
       "      <td>__import__(name, globals=None, locals=None, fr...</td>\n",
       "      <td>Note This is an advanced function that is not ...</td>\n",
       "    </tr>\n",
       "  </tbody>\n",
       "</table>\n",
       "<p>105 rows × 2 columns</p>\n",
       "</div>"
      ],
      "text/plain": [
       "                                                Error  \\\n",
       "0                                      AssertionError   \n",
       "0                                      AttributeError   \n",
       "0                                            EOFError   \n",
       "0                                  FloatingPointError   \n",
       "0                                       GeneratorExit   \n",
       "..                                                ...   \n",
       "0                                         class tuple   \n",
       "0                                  class type(object)   \n",
       "0                                              vars()   \n",
       "0                       zip(*iterables, strict=False)   \n",
       "0   __import__(name, globals=None, locals=None, fr...   \n",
       "\n",
       "                                          Information  \n",
       "0              Raised when an assert statement fails.  \n",
       "0   Raised when an attribute reference (see Attrib...  \n",
       "0   Raised when the input() function hits an end-o...  \n",
       "0                                 Not currently used.  \n",
       "0   Raised when a generator or coroutine is closed...  \n",
       "..                                                ...  \n",
       "0                               class tuple(iterable)  \n",
       "0               class type(name, bases, dict, **kwds)  \n",
       "0                                        vars(object)  \n",
       "0   Iterate over several iterables in parallel, pr...  \n",
       "0   Note This is an advanced function that is not ...  \n",
       "\n",
       "[105 rows x 2 columns]"
      ]
     },
     "execution_count": 18,
     "metadata": {},
     "output_type": "execute_result"
    }
   ],
   "source": [
    "df"
   ]
  },
  {
   "cell_type": "code",
   "execution_count": 19,
   "id": "97686943-7c8d-4509-a0a7-00fc849738ed",
   "metadata": {},
   "outputs": [],
   "source": [
    "df.to_csv('./QApage/python_exception_eng.csv', index=False)"
   ]
  },
  {
   "cell_type": "code",
   "execution_count": null,
   "id": "a4b48e00-6076-402f-9766-a1a19f70112f",
   "metadata": {},
   "outputs": [],
   "source": []
  },
  {
   "cell_type": "code",
   "execution_count": null,
   "id": "dd8fdb9f-f5c2-4b54-854b-3987df73c637",
   "metadata": {},
   "outputs": [],
   "source": []
  },
  {
   "cell_type": "code",
   "execution_count": null,
   "id": "b355fa46-917d-4478-a558-0d66be8867fe",
   "metadata": {},
   "outputs": [],
   "source": []
  },
  {
   "cell_type": "code",
   "execution_count": null,
   "id": "f1526194-b0c1-4280-b4e9-16caed5e778b",
   "metadata": {},
   "outputs": [],
   "source": []
  },
  {
   "cell_type": "code",
   "execution_count": null,
   "id": "f86555c6-c4dd-47d2-8d7b-945a4d15f196",
   "metadata": {},
   "outputs": [],
   "source": []
  },
  {
   "cell_type": "code",
   "execution_count": null,
   "id": "87bf5994-2a33-4f16-81a8-161c91177a37",
   "metadata": {},
   "outputs": [],
   "source": []
  },
  {
   "cell_type": "code",
   "execution_count": null,
   "id": "3f62534d-5b5f-4c85-9d68-c7e7a681eaf0",
   "metadata": {},
   "outputs": [],
   "source": []
  },
  {
   "cell_type": "code",
   "execution_count": null,
   "id": "59eeb5aa-664f-46aa-9295-2175252182f7",
   "metadata": {},
   "outputs": [],
   "source": []
  },
  {
   "cell_type": "code",
   "execution_count": null,
   "id": "192ed346-8905-4ae6-995f-e0eb2b9e94c7",
   "metadata": {},
   "outputs": [],
   "source": []
  },
  {
   "cell_type": "code",
   "execution_count": 142,
   "id": "99a0e8cd-c685-4ab1-b212-c75f50ffa67c",
   "metadata": {},
   "outputs": [],
   "source": [
    "import subprocess"
   ]
  },
  {
   "cell_type": "code",
   "execution_count": 190,
   "id": "d81d4d45-0aad-4882-b67e-f2343ff01a0e",
   "metadata": {},
   "outputs": [],
   "source": [
    "import logging\n",
    "import traceback"
   ]
  },
  {
   "cell_type": "code",
   "execution_count": 193,
   "id": "25bcac47-5c9b-43e3-b0ed-081251c0dd25",
   "metadata": {},
   "outputs": [],
   "source": [
    "logging.basicConfig(filename='./test.log', level=logging.ERROR)"
   ]
  },
  {
   "cell_type": "code",
   "execution_count": 224,
   "id": "b9279f73-662a-4021-92a2-14fd80e2665b",
   "metadata": {
    "scrolled": true,
    "tags": []
   },
   "outputs": [],
   "source": [
    "try:\n",
    "    subprocess.check_output('flake8 --config QApage/options.flake8 QApage/run.py', encoding='utf8')\n",
    "    \n",
    "except subprocess.CalledProcessError as e:\n",
    "    asdf = traceback.format_exc()\n",
    "\n",
    "    \n",
    "try:\n",
    "    result = subprocess.check_output('python QApage/run.py', encoding='utf8')\n",
    "    result = '해당 코드를 실행하면, 아래와 같이 출력됩니다\\n\\n' + str(result)\n",
    "\n",
    "except subprocess.CalledProcessError as e:\n",
    "    asdf = traceback.format_exc()"
   ]
  },
  {
   "cell_type": "code",
   "execution_count": 226,
   "id": "af53541e-7743-43ee-a3e6-b80ca85d6a08",
   "metadata": {},
   "outputs": [
    {
     "name": "stdout",
     "output_type": "stream",
     "text": [
      "Traceback (most recent call last):\n",
      "  File \"C:\\Users\\user\\AppData\\Local\\Temp\\ipykernel_23680\\3284570933.py\", line 9, in <module>\n",
      "    result = subprocess.check_output('python QApage/run.py', encoding='utf8')\n",
      "  File \"C:\\ProgramData\\anaconda3\\lib\\subprocess.py\", line 421, in check_output\n",
      "    return run(*popenargs, stdout=PIPE, timeout=timeout, check=True,\n",
      "  File \"C:\\ProgramData\\anaconda3\\lib\\subprocess.py\", line 526, in run\n",
      "    raise CalledProcessError(retcode, process.args,\n",
      "subprocess.CalledProcessError: Command 'python QApage/run.py' returned non-zero exit status 1.\n",
      "\n"
     ]
    }
   ],
   "source": [
    "print(asdf)"
   ]
  },
  {
   "cell_type": "code",
   "execution_count": 227,
   "id": "25d863fd-308b-4181-acbe-a2edecd66fa9",
   "metadata": {},
   "outputs": [
    {
     "data": {
      "text/plain": [
       "'Traceback (most recent call last):\\n  File \"C:\\\\Users\\\\user\\\\AppData\\\\Local\\\\Temp\\\\ipykernel_23680\\\\3284570933.py\", line 9, in <module>\\n    result = subprocess.check_output(\\'python QApage/run.py\\', encoding=\\'utf8\\')\\n  File \"C:\\\\ProgramData\\\\anaconda3\\\\lib\\\\subprocess.py\", line 421, in check_output\\n    return run(*popenargs, stdout=PIPE, timeout=timeout, check=True,\\n  File \"C:\\\\ProgramData\\\\anaconda3\\\\lib\\\\subprocess.py\", line 526, in run\\n    raise CalledProcessError(retcode, process.args,\\nsubprocess.CalledProcessError: Command \\'python QApage/run.py\\' returned non-zero exit status 1.\\n'"
      ]
     },
     "execution_count": 227,
     "metadata": {},
     "output_type": "execute_result"
    }
   ],
   "source": [
    "asdf"
   ]
  },
  {
   "cell_type": "code",
   "execution_count": 229,
   "id": "8c685f77-4bc0-44e2-a671-3dec71e639e2",
   "metadata": {},
   "outputs": [
    {
     "data": {
      "text/plain": [
       "\"subprocess.CalledProcessError: Command 'python QApage/run.py' returned non-zero exit status 1.\""
      ]
     },
     "execution_count": 229,
     "metadata": {},
     "output_type": "execute_result"
    }
   ],
   "source": [
    "asdf.split('\\n')[-2]"
   ]
  },
  {
   "cell_type": "code",
   "execution_count": null,
   "id": "69960089-1b87-4929-9cd3-b1020b6d0453",
   "metadata": {},
   "outputs": [],
   "source": []
  }
 ],
 "metadata": {
  "kernelspec": {
   "display_name": "Python 3 (ipykernel)",
   "language": "python",
   "name": "python3"
  },
  "language_info": {
   "codemirror_mode": {
    "name": "ipython",
    "version": 3
   },
   "file_extension": ".py",
   "mimetype": "text/x-python",
   "name": "python",
   "nbconvert_exporter": "python",
   "pygments_lexer": "ipython3",
   "version": "3.10.9"
  }
 },
 "nbformat": 4,
 "nbformat_minor": 5
}
